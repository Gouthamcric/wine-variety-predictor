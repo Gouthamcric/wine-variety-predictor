{
  "nbformat": 4,
  "nbformat_minor": 0,
  "metadata": {
    "colab": {
      "name": "knight assignment",
      "provenance": [],
      "collapsed_sections": [],
      "machine_shape": "hm"
    },
    "kernelspec": {
      "name": "python3",
      "display_name": "Python 3"
    }
  },
  "cells": [
    {
      "cell_type": "code",
      "metadata": {
        "id": "ZQPpwIoJ_9oo",
        "colab_type": "code",
        "colab": {}
      },
      "source": [
        "import pandas as pd\n",
        "import numpy as np\n",
        "import seaborn as sb"
      ],
      "execution_count": 0,
      "outputs": []
    },
    {
      "cell_type": "code",
      "metadata": {
        "id": "4-i_R-fiCKei",
        "colab_type": "code",
        "colab": {}
      },
      "source": [
        "train=pd.read_csv(\"/content/drive/My Drive/train.csv\")\n",
        "test=pd.read_csv(\"/content/drive/My Drive/test.csv\")"
      ],
      "execution_count": 0,
      "outputs": []
    },
    {
      "cell_type": "code",
      "metadata": {
        "id": "HOK22-k1CMEa",
        "colab_type": "code",
        "outputId": "94a6e733-eb21-4c1d-ef98-9c606602cf4e",
        "colab": {
          "base_uri": "https://localhost:8080/",
          "height": 34
        }
      },
      "source": [
        "train.shape"
      ],
      "execution_count": 0,
      "outputs": [
        {
          "output_type": "execute_result",
          "data": {
            "text/plain": [
              "(82657, 12)"
            ]
          },
          "metadata": {
            "tags": []
          },
          "execution_count": 41
        }
      ]
    },
    {
      "cell_type": "code",
      "metadata": {
        "id": "GgZ2D8fWCOSS",
        "colab_type": "code",
        "colab": {}
      },
      "source": [
        "y_train=train['variety']\n",
        "train.drop(\"variety\",axis=1,inplace=True)"
      ],
      "execution_count": 0,
      "outputs": []
    },
    {
      "cell_type": "code",
      "metadata": {
        "id": "wCnFXwKCCP08",
        "colab_type": "code",
        "outputId": "548295db-8d1b-4b24-e3d3-d56381a9294e",
        "colab": {
          "base_uri": "https://localhost:8080/",
          "height": 204
        }
      },
      "source": [
        "cmbn=[train,test]\n",
        "train_test=pd.concat(cmbn)\n",
        "train_test.head()"
      ],
      "execution_count": 0,
      "outputs": [
        {
          "output_type": "execute_result",
          "data": {
            "text/html": [
              "<div>\n",
              "<style scoped>\n",
              "    .dataframe tbody tr th:only-of-type {\n",
              "        vertical-align: middle;\n",
              "    }\n",
              "\n",
              "    .dataframe tbody tr th {\n",
              "        vertical-align: top;\n",
              "    }\n",
              "\n",
              "    .dataframe thead th {\n",
              "        text-align: right;\n",
              "    }\n",
              "</style>\n",
              "<table border=\"1\" class=\"dataframe\">\n",
              "  <thead>\n",
              "    <tr style=\"text-align: right;\">\n",
              "      <th></th>\n",
              "      <th>user_name</th>\n",
              "      <th>country</th>\n",
              "      <th>review_title</th>\n",
              "      <th>review_description</th>\n",
              "      <th>designation</th>\n",
              "      <th>points</th>\n",
              "      <th>price</th>\n",
              "      <th>province</th>\n",
              "      <th>region_1</th>\n",
              "      <th>region_2</th>\n",
              "      <th>winery</th>\n",
              "    </tr>\n",
              "  </thead>\n",
              "  <tbody>\n",
              "    <tr>\n",
              "      <th>0</th>\n",
              "      <td>NaN</td>\n",
              "      <td>Australia</td>\n",
              "      <td>Andrew Peace 2007 Peace Family Vineyard Chardo...</td>\n",
              "      <td>Classic Chardonnay aromas of apple, pear and h...</td>\n",
              "      <td>Peace Family Vineyard</td>\n",
              "      <td>83</td>\n",
              "      <td>10.0</td>\n",
              "      <td>Australia Other</td>\n",
              "      <td>South Eastern Australia</td>\n",
              "      <td>NaN</td>\n",
              "      <td>Andrew Peace</td>\n",
              "    </tr>\n",
              "    <tr>\n",
              "      <th>1</th>\n",
              "      <td>@wawinereport</td>\n",
              "      <td>US</td>\n",
              "      <td>North by Northwest 2014 Red (Columbia Valley (...</td>\n",
              "      <td>This wine is near equal parts Syrah and Merlot...</td>\n",
              "      <td>NaN</td>\n",
              "      <td>89</td>\n",
              "      <td>15.0</td>\n",
              "      <td>Washington</td>\n",
              "      <td>Columbia Valley (WA)</td>\n",
              "      <td>Columbia Valley</td>\n",
              "      <td>North by Northwest</td>\n",
              "    </tr>\n",
              "    <tr>\n",
              "      <th>2</th>\n",
              "      <td>NaN</td>\n",
              "      <td>Italy</td>\n",
              "      <td>Renato Ratti 2007 Conca  (Barolo)</td>\n",
              "      <td>Barolo Conca opens with inky dark concentratio...</td>\n",
              "      <td>Conca</td>\n",
              "      <td>94</td>\n",
              "      <td>80.0</td>\n",
              "      <td>Piedmont</td>\n",
              "      <td>Barolo</td>\n",
              "      <td>NaN</td>\n",
              "      <td>Renato Ratti</td>\n",
              "    </tr>\n",
              "    <tr>\n",
              "      <th>3</th>\n",
              "      <td>@vossroger</td>\n",
              "      <td>France</td>\n",
              "      <td>Domaine l'Ancienne Cure 2010 L'Abbaye White (B...</td>\n",
              "      <td>It's impressive what a small addition of Sauvi...</td>\n",
              "      <td>L'Abbaye</td>\n",
              "      <td>87</td>\n",
              "      <td>22.0</td>\n",
              "      <td>Southwest France</td>\n",
              "      <td>Bergerac Sec</td>\n",
              "      <td>NaN</td>\n",
              "      <td>Domaine l'Ancienne Cure</td>\n",
              "    </tr>\n",
              "    <tr>\n",
              "      <th>4</th>\n",
              "      <td>@vossroger</td>\n",
              "      <td>France</td>\n",
              "      <td>Château du Cèdre 2012 Le Cèdre Vintage Malbec ...</td>\n",
              "      <td>This ripe, sweet wine is rich and full of drie...</td>\n",
              "      <td>Le Cèdre Vintage</td>\n",
              "      <td>88</td>\n",
              "      <td>33.0</td>\n",
              "      <td>France Other</td>\n",
              "      <td>Vin de Liqueur</td>\n",
              "      <td>NaN</td>\n",
              "      <td>Château du Cèdre</td>\n",
              "    </tr>\n",
              "  </tbody>\n",
              "</table>\n",
              "</div>"
            ],
            "text/plain": [
              "       user_name    country  ...         region_2                   winery\n",
              "0            NaN  Australia  ...              NaN             Andrew Peace\n",
              "1  @wawinereport         US  ...  Columbia Valley       North by Northwest\n",
              "2            NaN      Italy  ...              NaN             Renato Ratti\n",
              "3     @vossroger     France  ...              NaN  Domaine l'Ancienne Cure\n",
              "4     @vossroger     France  ...              NaN         Château du Cèdre\n",
              "\n",
              "[5 rows x 11 columns]"
            ]
          },
          "metadata": {
            "tags": []
          },
          "execution_count": 43
        }
      ]
    },
    {
      "cell_type": "code",
      "metadata": {
        "id": "ApFCnLuLCSFh",
        "colab_type": "code",
        "colab": {}
      },
      "source": [
        "train_test.drop(\"user_name\",axis=1,inplace=True)\n",
        "train_test.drop(\"review_title\",axis=1,inplace=True)\n",
        "train_test.drop(\"review_description\",axis=1,inplace=True)"
      ],
      "execution_count": 0,
      "outputs": []
    },
    {
      "cell_type": "code",
      "metadata": {
        "id": "JNCzHXIYCTaK",
        "colab_type": "code",
        "outputId": "6b3f7ac8-167e-4129-e893-49d63b45a575",
        "colab": {
          "base_uri": "https://localhost:8080/",
          "height": 170
        }
      },
      "source": [
        "train_test.isnull().any()"
      ],
      "execution_count": 0,
      "outputs": [
        {
          "output_type": "execute_result",
          "data": {
            "text/plain": [
              "country         True\n",
              "designation     True\n",
              "points         False\n",
              "price           True\n",
              "province        True\n",
              "region_1        True\n",
              "region_2        True\n",
              "winery         False\n",
              "dtype: bool"
            ]
          },
          "metadata": {
            "tags": []
          },
          "execution_count": 45
        }
      ]
    },
    {
      "cell_type": "code",
      "metadata": {
        "id": "wiA6rSlBCVQ4",
        "colab_type": "code",
        "colab": {}
      },
      "source": [
        "train_test['country'].fillna(train['country'].mode()[0],inplace=True)\n",
        "train_test['price'].fillna(train['price'].mean(),inplace=True)\n",
        "train_test['province'].fillna(train['province'].mode()[0],inplace=True)\n",
        "train_test['region_1'].fillna(train['region_1'].mode()[0],inplace=True)\n",
        "train_test['region_2'].fillna(train['region_2'].mode()[0],inplace=True)"
      ],
      "execution_count": 0,
      "outputs": []
    },
    {
      "cell_type": "code",
      "metadata": {
        "id": "jSM42jiHCWtq",
        "colab_type": "code",
        "outputId": "2b1d55bf-f41b-4c9d-b18f-43decb909128",
        "colab": {
          "base_uri": "https://localhost:8080/",
          "height": 170
        }
      },
      "source": [
        "train_test.isnull().any()"
      ],
      "execution_count": 0,
      "outputs": [
        {
          "output_type": "execute_result",
          "data": {
            "text/plain": [
              "country        False\n",
              "designation     True\n",
              "points         False\n",
              "price          False\n",
              "province       False\n",
              "region_1       False\n",
              "region_2       False\n",
              "winery         False\n",
              "dtype: bool"
            ]
          },
          "metadata": {
            "tags": []
          },
          "execution_count": 48
        }
      ]
    },
    {
      "cell_type": "code",
      "metadata": {
        "id": "ATMr5xKnCYLg",
        "colab_type": "code",
        "outputId": "4c0a3af1-ec05-4d1c-e3b3-c0ddddb1709f",
        "colab": {
          "base_uri": "https://localhost:8080/",
          "height": 34
        }
      },
      "source": [
        "train['designation'].unique().shape"
      ],
      "execution_count": 0,
      "outputs": [
        {
          "output_type": "execute_result",
          "data": {
            "text/plain": [
              "(26425,)"
            ]
          },
          "metadata": {
            "tags": []
          },
          "execution_count": 49
        }
      ]
    },
    {
      "cell_type": "code",
      "metadata": {
        "id": "SQP_Qt5jCZb7",
        "colab_type": "code",
        "outputId": "ca8d90db-70a2-4c52-9e7a-a5b0bcb8b5bd",
        "colab": {
          "base_uri": "https://localhost:8080/",
          "height": 34
        }
      },
      "source": [
        "train['winery'].unique().shape"
      ],
      "execution_count": 0,
      "outputs": [
        {
          "output_type": "execute_result",
          "data": {
            "text/plain": [
              "(13786,)"
            ]
          },
          "metadata": {
            "tags": []
          },
          "execution_count": 50
        }
      ]
    },
    {
      "cell_type": "code",
      "metadata": {
        "id": "sv0hhDEWCa3a",
        "colab_type": "code",
        "colab": {}
      },
      "source": [
        "train_test.drop(\"designation\",axis=1,inplace=True)\n",
        "train_test.drop(\"winery\",axis=1,inplace=True)"
      ],
      "execution_count": 0,
      "outputs": []
    },
    {
      "cell_type": "code",
      "metadata": {
        "id": "q6017dsqCcNZ",
        "colab_type": "code",
        "colab": {}
      },
      "source": [
        "from sklearn.preprocessing import LabelEncoder\n",
        "le=LabelEncoder()\n",
        "train_test['country']=le.fit_transform(train_test['country'])\n",
        "train_test['province']=le.fit_transform(train_test['province'])\n",
        "train_test['region_1']=le.fit_transform(train_test['region_1'])\n",
        "train_test['region_2']=le.fit_transform(train_test['region_2'])\n",
        "y_train=le.fit_transform(y_train)"
      ],
      "execution_count": 0,
      "outputs": []
    },
    {
      "cell_type": "code",
      "metadata": {
        "id": "fgKR0krSCebB",
        "colab_type": "code",
        "outputId": "4376e116-97ef-4c14-c9d7-3af52b8c61a3",
        "colab": {
          "base_uri": "https://localhost:8080/",
          "height": 419
        }
      },
      "source": [
        "train_test"
      ],
      "execution_count": 0,
      "outputs": [
        {
          "output_type": "execute_result",
          "data": {
            "text/html": [
              "<div>\n",
              "<style scoped>\n",
              "    .dataframe tbody tr th:only-of-type {\n",
              "        vertical-align: middle;\n",
              "    }\n",
              "\n",
              "    .dataframe tbody tr th {\n",
              "        vertical-align: top;\n",
              "    }\n",
              "\n",
              "    .dataframe thead th {\n",
              "        text-align: right;\n",
              "    }\n",
              "</style>\n",
              "<table border=\"1\" class=\"dataframe\">\n",
              "  <thead>\n",
              "    <tr style=\"text-align: right;\">\n",
              "      <th></th>\n",
              "      <th>country</th>\n",
              "      <th>points</th>\n",
              "      <th>price</th>\n",
              "      <th>province</th>\n",
              "      <th>region_1</th>\n",
              "      <th>region_2</th>\n",
              "    </tr>\n",
              "  </thead>\n",
              "  <tbody>\n",
              "    <tr>\n",
              "      <th>0</th>\n",
              "      <td>2</td>\n",
              "      <td>83</td>\n",
              "      <td>10.0</td>\n",
              "      <td>19</td>\n",
              "      <td>879</td>\n",
              "      <td>1</td>\n",
              "    </tr>\n",
              "    <tr>\n",
              "      <th>1</th>\n",
              "      <td>37</td>\n",
              "      <td>89</td>\n",
              "      <td>15.0</td>\n",
              "      <td>356</td>\n",
              "      <td>247</td>\n",
              "      <td>3</td>\n",
              "    </tr>\n",
              "    <tr>\n",
              "      <th>2</th>\n",
              "      <td>19</td>\n",
              "      <td>94</td>\n",
              "      <td>80.0</td>\n",
              "      <td>243</td>\n",
              "      <td>65</td>\n",
              "      <td>1</td>\n",
              "    </tr>\n",
              "    <tr>\n",
              "      <th>3</th>\n",
              "      <td>12</td>\n",
              "      <td>87</td>\n",
              "      <td>22.0</td>\n",
              "      <td>291</td>\n",
              "      <td>87</td>\n",
              "      <td>1</td>\n",
              "    </tr>\n",
              "    <tr>\n",
              "      <th>4</th>\n",
              "      <td>12</td>\n",
              "      <td>88</td>\n",
              "      <td>33.0</td>\n",
              "      <td>108</td>\n",
              "      <td>986</td>\n",
              "      <td>1</td>\n",
              "    </tr>\n",
              "    <tr>\n",
              "      <th>...</th>\n",
              "      <td>...</td>\n",
              "      <td>...</td>\n",
              "      <td>...</td>\n",
              "      <td>...</td>\n",
              "      <td>...</td>\n",
              "      <td>...</td>\n",
              "    </tr>\n",
              "    <tr>\n",
              "      <th>20660</th>\n",
              "      <td>37</td>\n",
              "      <td>91</td>\n",
              "      <td>34.0</td>\n",
              "      <td>44</td>\n",
              "      <td>1053</td>\n",
              "      <td>9</td>\n",
              "    </tr>\n",
              "    <tr>\n",
              "      <th>20661</th>\n",
              "      <td>12</td>\n",
              "      <td>84</td>\n",
              "      <td>20.0</td>\n",
              "      <td>155</td>\n",
              "      <td>259</td>\n",
              "      <td>1</td>\n",
              "    </tr>\n",
              "    <tr>\n",
              "      <th>20662</th>\n",
              "      <td>37</td>\n",
              "      <td>94</td>\n",
              "      <td>85.0</td>\n",
              "      <td>44</td>\n",
              "      <td>684</td>\n",
              "      <td>1</td>\n",
              "    </tr>\n",
              "    <tr>\n",
              "      <th>20663</th>\n",
              "      <td>34</td>\n",
              "      <td>80</td>\n",
              "      <td>9.0</td>\n",
              "      <td>220</td>\n",
              "      <td>1024</td>\n",
              "      <td>1</td>\n",
              "    </tr>\n",
              "    <tr>\n",
              "      <th>20664</th>\n",
              "      <td>37</td>\n",
              "      <td>87</td>\n",
              "      <td>40.0</td>\n",
              "      <td>44</td>\n",
              "      <td>471</td>\n",
              "      <td>1</td>\n",
              "    </tr>\n",
              "  </tbody>\n",
              "</table>\n",
              "<p>103322 rows × 6 columns</p>\n",
              "</div>"
            ],
            "text/plain": [
              "       country  points  price  province  region_1  region_2\n",
              "0            2      83   10.0        19       879         1\n",
              "1           37      89   15.0       356       247         3\n",
              "2           19      94   80.0       243        65         1\n",
              "3           12      87   22.0       291        87         1\n",
              "4           12      88   33.0       108       986         1\n",
              "...        ...     ...    ...       ...       ...       ...\n",
              "20660       37      91   34.0        44      1053         9\n",
              "20661       12      84   20.0       155       259         1\n",
              "20662       37      94   85.0        44       684         1\n",
              "20663       34      80    9.0       220      1024         1\n",
              "20664       37      87   40.0        44       471         1\n",
              "\n",
              "[103322 rows x 6 columns]"
            ]
          },
          "metadata": {
            "tags": []
          },
          "execution_count": 53
        }
      ]
    },
    {
      "cell_type": "code",
      "metadata": {
        "id": "mlS1tG3yFfWj",
        "colab_type": "code",
        "outputId": "884179fc-43a5-491a-ebe4-6469e15de6cb",
        "colab": {
          "base_uri": "https://localhost:8080/",
          "height": 119
        }
      },
      "source": [
        "#for visualization\n",
        "temp=train_test.iloc[0:82657]\n",
        "temp['variety']=y_train"
      ],
      "execution_count": 0,
      "outputs": [
        {
          "output_type": "stream",
          "text": [
            "/usr/local/lib/python3.6/dist-packages/ipykernel_launcher.py:2: SettingWithCopyWarning: \n",
            "A value is trying to be set on a copy of a slice from a DataFrame.\n",
            "Try using .loc[row_indexer,col_indexer] = value instead\n",
            "\n",
            "See the caveats in the documentation: https://pandas.pydata.org/pandas-docs/stable/user_guide/indexing.html#returning-a-view-versus-a-copy\n",
            "  \n"
          ],
          "name": "stderr"
        }
      ]
    },
    {
      "cell_type": "code",
      "metadata": {
        "id": "lsjV3AOYF3WQ",
        "colab_type": "code",
        "outputId": "0d374c31-c79f-4006-8339-ea673db8fc6e",
        "colab": {
          "base_uri": "https://localhost:8080/",
          "height": 1000
        }
      },
      "source": [
        "sb.pairplot(temp.corr())"
      ],
      "execution_count": 0,
      "outputs": [
        {
          "output_type": "execute_result",
          "data": {
            "text/plain": [
              "<seaborn.axisgrid.PairGrid at 0x7f9fac7ca160>"
            ]
          },
          "metadata": {
            "tags": []
          },
          "execution_count": 55
        },
        {
          "output_type": "display_data",
          "data": {
            "image/png": "[encoded data removed]",
            "text/plain": [
              "<Figure size 1260x1260 with 56 Axes>"
            ]
          },
          "metadata": {
            "tags": [],
            "needs_background": "light"
          }
        }
      ]
    },
    {
      "cell_type": "code",
      "metadata": {
        "id": "ju3GqQiFGJXY",
        "colab_type": "code",
        "outputId": "653ee66f-34ce-430f-a722-cad1ceddf5d8",
        "colab": {
          "base_uri": "https://localhost:8080/",
          "height": 319
        }
      },
      "source": [
        "sb.heatmap(temp.corr(),annot=True)"
      ],
      "execution_count": 0,
      "outputs": [
        {
          "output_type": "execute_result",
          "data": {
            "text/plain": [
              "<matplotlib.axes._subplots.AxesSubplot at 0x7f9fac7ca6a0>"
            ]
          },
          "metadata": {
            "tags": []
          },
          "execution_count": 56
        },
        {
          "output_type": "display_data",
          "data": {
            "image/png": "[encoded data removed]",
            "text/plain": [
              "<Figure size 432x288 with 2 Axes>"
            ]
          },
          "metadata": {
            "tags": [],
            "needs_background": "light"
          }
        }
      ]
    },
    {
      "cell_type": "code",
      "metadata": {
        "id": "ySA8Hh4LCg3v",
        "colab_type": "code",
        "colab": {}
      },
      "source": [
        "x_train_test=train_test.iloc[0:,:].values"
      ],
      "execution_count": 0,
      "outputs": []
    },
    {
      "cell_type": "code",
      "metadata": {
        "id": "eeJmbsmYCiSB",
        "colab_type": "code",
        "outputId": "a037ff17-3ce7-491c-9b4c-bb03f6d4c4aa",
        "colab": {
          "base_uri": "https://localhost:8080/",
          "height": 136
        }
      },
      "source": [
        "x_train_test"
      ],
      "execution_count": 0,
      "outputs": [
        {
          "output_type": "execute_result",
          "data": {
            "text/plain": [
              "array([[2.000e+00, 8.300e+01, 1.000e+01, 1.900e+01, 8.790e+02, 1.000e+00],\n",
              "       [3.700e+01, 8.900e+01, 1.500e+01, 3.560e+02, 2.470e+02, 3.000e+00],\n",
              "       [1.900e+01, 9.400e+01, 8.000e+01, 2.430e+02, 6.500e+01, 1.000e+00],\n",
              "       ...,\n",
              "       [3.700e+01, 9.400e+01, 8.500e+01, 4.400e+01, 6.840e+02, 1.000e+00],\n",
              "       [3.400e+01, 8.000e+01, 9.000e+00, 2.200e+02, 1.024e+03, 1.000e+00],\n",
              "       [3.700e+01, 8.700e+01, 4.000e+01, 4.400e+01, 4.710e+02, 1.000e+00]])"
            ]
          },
          "metadata": {
            "tags": []
          },
          "execution_count": 58
        }
      ]
    },
    {
      "cell_type": "code",
      "metadata": {
        "id": "rCde0cjPCjwi",
        "colab_type": "code",
        "colab": {}
      },
      "source": [
        "from sklearn.preprocessing import OneHotEncoder"
      ],
      "execution_count": 0,
      "outputs": []
    },
    {
      "cell_type": "code",
      "metadata": {
        "id": "rBbaDJk7Clk2",
        "colab_type": "code",
        "outputId": "1ba7f557-cc5b-45c2-c91e-5c8bb3781f1f",
        "colab": {
          "base_uri": "https://localhost:8080/",
          "height": 34
        }
      },
      "source": [
        "y_train.shape"
      ],
      "execution_count": 0,
      "outputs": [
        {
          "output_type": "execute_result",
          "data": {
            "text/plain": [
              "(82657,)"
            ]
          },
          "metadata": {
            "tags": []
          },
          "execution_count": 60
        }
      ]
    },
    {
      "cell_type": "code",
      "metadata": {
        "id": "GzGfStg7CoSP",
        "colab_type": "code",
        "outputId": "f14dc842-7685-4800-d6a3-15c285543381",
        "colab": {
          "base_uri": "https://localhost:8080/",
          "height": 34
        }
      },
      "source": [
        "y_train.shape"
      ],
      "execution_count": 0,
      "outputs": [
        {
          "output_type": "execute_result",
          "data": {
            "text/plain": [
              "(82657,)"
            ]
          },
          "metadata": {
            "tags": []
          },
          "execution_count": 61
        }
      ]
    },
    {
      "cell_type": "code",
      "metadata": {
        "id": "UAK9bIYOCpr1",
        "colab_type": "code",
        "colab": {}
      },
      "source": [
        "one=OneHotEncoder()\n",
        "z1=one.fit_transform(x_train_test[:,0:1]).toarray()\n",
        "z2=one.fit_transform(x_train_test[:,3:4]).toarray()\n",
        "z3=one.fit_transform(x_train_test[:,4:5]).toarray()\n",
        "z4=one.fit_transform(x_train_test[:,5:6]).toarray()\n",
        "train_test=np.delete(x_train_test,[0,3,4,5],axis=1)\n",
        "x_train_test=np.concatenate((z1,z2,z3,z4,x_train_test),axis=1)"
      ],
      "execution_count": 0,
      "outputs": []
    },
    {
      "cell_type": "code",
      "metadata": {
        "id": "sjZSPqFohLaE",
        "colab_type": "code",
        "colab": {}
      },
      "source": [
        "one=OneHotEncoder()\n",
        "z=one.fit_transform(y_train.reshape(-1, 1)).toarray()\n",
        "y_train=np.delete(y_train.reshape(-1, 1),[0],axis=1)\n",
        "y_train=np.concatenate((z,y_train),axis=1)"
      ],
      "execution_count": 0,
      "outputs": []
    },
    {
      "cell_type": "code",
      "metadata": {
        "id": "QhS_sMn2eHUK",
        "colab_type": "code",
        "colab": {}
      },
      "source": [
        "x_train=x_train_test[0:82657,:]\n",
        "x_test=x_train_test[82658:103322,:]"
      ],
      "execution_count": 0,
      "outputs": []
    },
    {
      "cell_type": "code",
      "metadata": {
        "id": "XOJsO2vh-_pk",
        "colab_type": "code",
        "outputId": "a403dcc4-cf88-4e11-98d9-fae2cd049068",
        "colab": {
          "base_uri": "https://localhost:8080/",
          "height": 34
        }
      },
      "source": [
        "x_test.shape"
      ],
      "execution_count": 0,
      "outputs": [
        {
          "output_type": "execute_result",
          "data": {
            "text/plain": [
              "(20664, 1489)"
            ]
          },
          "metadata": {
            "tags": []
          },
          "execution_count": 68
        }
      ]
    },
    {
      "cell_type": "code",
      "metadata": {
        "id": "lLUlpL1JIWyq",
        "colab_type": "code",
        "colab": {}
      },
      "source": [
        "from sklearn.preprocessing import StandardScaler \n",
        "sc=StandardScaler()\n",
        "x_train=sc.fit_transform(x_train)\n",
        "x_test=sc.fit_transform(x_test)"
      ],
      "execution_count": 0,
      "outputs": []
    },
    {
      "cell_type": "code",
      "metadata": {
        "id": "lVKYhPhOCrFW",
        "colab_type": "code",
        "outputId": "4b8fece7-30e3-40dd-8013-1b9c7a827be6",
        "colab": {
          "base_uri": "https://localhost:8080/",
          "height": 34
        }
      },
      "source": [
        "y_train.shape"
      ],
      "execution_count": 0,
      "outputs": [
        {
          "output_type": "execute_result",
          "data": {
            "text/plain": [
              "(82657, 28)"
            ]
          },
          "metadata": {
            "tags": []
          },
          "execution_count": 70
        }
      ]
    },
    {
      "cell_type": "code",
      "metadata": {
        "id": "nrlJ7BQeCs4K",
        "colab_type": "code",
        "colab": {}
      },
      "source": [
        "import keras\n",
        "from keras.models import Sequential\n",
        "from keras.layers import Dense"
      ],
      "execution_count": 0,
      "outputs": []
    },
    {
      "cell_type": "code",
      "metadata": {
        "id": "0rM2OgYFCu-S",
        "colab_type": "code",
        "colab": {}
      },
      "source": [
        "classifier = Sequential()"
      ],
      "execution_count": 0,
      "outputs": []
    },
    {
      "cell_type": "code",
      "metadata": {
        "id": "vAoXecj7CwUI",
        "colab_type": "code",
        "outputId": "cff101ed-e0bd-4341-fb4d-2be870bf62b2",
        "colab": {
          "base_uri": "https://localhost:8080/",
          "height": 51
        }
      },
      "source": [
        "classifier.add(Dense(units=1434,init = \"uniform\",activation=\"relu\"))"
      ],
      "execution_count": 0,
      "outputs": [
        {
          "output_type": "stream",
          "text": [
            "/usr/local/lib/python3.6/dist-packages/ipykernel_launcher.py:1: UserWarning: Update your `Dense` call to the Keras 2 API: `Dense(units=1434, activation=\"relu\", kernel_initializer=\"uniform\")`\n",
            "  \"\"\"Entry point for launching an IPython kernel.\n"
          ],
          "name": "stderr"
        }
      ]
    },
    {
      "cell_type": "code",
      "metadata": {
        "id": "osm__MTGCyVT",
        "colab_type": "code",
        "outputId": "d771200c-7e98-474e-8e58-ff8e11122d0d",
        "colab": {
          "base_uri": "https://localhost:8080/",
          "height": 51
        }
      },
      "source": [
        "classifier.add(Dense(units=717,init=\"uniform\",activation=\"relu\"))"
      ],
      "execution_count": 0,
      "outputs": [
        {
          "output_type": "stream",
          "text": [
            "/usr/local/lib/python3.6/dist-packages/ipykernel_launcher.py:1: UserWarning: Update your `Dense` call to the Keras 2 API: `Dense(units=717, activation=\"relu\", kernel_initializer=\"uniform\")`\n",
            "  \"\"\"Entry point for launching an IPython kernel.\n"
          ],
          "name": "stderr"
        }
      ]
    },
    {
      "cell_type": "code",
      "metadata": {
        "id": "X46Hdg4YC0We",
        "colab_type": "code",
        "outputId": "434e1d7e-c1b7-4566-ba90-a8dcc3a51cd7",
        "colab": {
          "base_uri": "https://localhost:8080/",
          "height": 51
        }
      },
      "source": [
        "classifier.add(Dense(units=28,init=\"uniform\",activation=\"softmax\"))"
      ],
      "execution_count": 0,
      "outputs": [
        {
          "output_type": "stream",
          "text": [
            "/usr/local/lib/python3.6/dist-packages/ipykernel_launcher.py:1: UserWarning: Update your `Dense` call to the Keras 2 API: `Dense(units=28, activation=\"softmax\", kernel_initializer=\"uniform\")`\n",
            "  \"\"\"Entry point for launching an IPython kernel.\n"
          ],
          "name": "stderr"
        }
      ]
    },
    {
      "cell_type": "code",
      "metadata": {
        "id": "fqCIgHUgC1zT",
        "colab_type": "code",
        "colab": {}
      },
      "source": [
        "classifier.compile(optimizer=\"adam\",loss=\"categorical_crossentropy\",metrics=[\"accuracy\"])"
      ],
      "execution_count": 0,
      "outputs": []
    },
    {
      "cell_type": "code",
      "metadata": {
        "id": "Jd0x6fCCC3T9",
        "colab_type": "code",
        "outputId": "96b0dc60-3592-47b8-ae4b-bea718745088",
        "colab": {
          "base_uri": "https://localhost:8080/",
          "height": 1000
        }
      },
      "source": [
        "classifier.fit(x_train,y_train,batch_size=16,epochs=90)"
      ],
      "execution_count": 77,
      "outputs": [
        {
          "output_type": "stream",
          "text": [
            "Epoch 1/100\n",
            "82657/82657 [==============================] - 118s 1ms/step - loss: 1.6012 - accuracy: 0.5108\n",
            "Epoch 2/100\n",
            "82657/82657 [==============================] - 121s 1ms/step - loss: 1.4850 - accuracy: 0.5301\n",
            "Epoch 3/100\n",
            "82657/82657 [==============================] - 122s 1ms/step - loss: 1.4863 - accuracy: 0.5350\n",
            "Epoch 4/100\n",
            "82657/82657 [==============================] - 120s 1ms/step - loss: 1.4656 - accuracy: 0.5339\n",
            "Epoch 5/100\n",
            "82657/82657 [==============================] - 120s 1ms/step - loss: 1.4581 - accuracy: 0.5367\n",
            "Epoch 6/100\n",
            "82657/82657 [==============================] - 119s 1ms/step - loss: 1.4641 - accuracy: 0.5371\n",
            "Epoch 7/100\n",
            "82657/82657 [==============================] - 120s 1ms/step - loss: 1.4531 - accuracy: 0.5382\n",
            "Epoch 8/100\n",
            "82657/82657 [==============================] - 125s 2ms/step - loss: 1.4604 - accuracy: 0.5365\n",
            "Epoch 9/100\n",
            "82657/82657 [==============================] - 122s 1ms/step - loss: 1.4446 - accuracy: 0.5361\n",
            "Epoch 10/100\n",
            "82657/82657 [==============================] - 122s 1ms/step - loss: 1.4803 - accuracy: 0.5353\n",
            "Epoch 11/100\n",
            "82657/82657 [==============================] - 122s 1ms/step - loss: 1.4514 - accuracy: 0.5373\n",
            "Epoch 12/100\n",
            "82657/82657 [==============================] - 124s 2ms/step - loss: 1.4715 - accuracy: 0.5375\n",
            "Epoch 13/100\n",
            "82657/82657 [==============================] - 127s 2ms/step - loss: 1.4484 - accuracy: 0.5360\n",
            "Epoch 14/100\n",
            "82657/82657 [==============================] - 124s 1ms/step - loss: 1.4656 - accuracy: 0.5360\n",
            "Epoch 15/100\n",
            "82657/82657 [==============================] - 123s 1ms/step - loss: 1.4579 - accuracy: 0.5345\n",
            "Epoch 16/100\n",
            "82657/82657 [==============================] - 123s 1ms/step - loss: 1.4613 - accuracy: 0.5345\n",
            "Epoch 17/100\n",
            "82657/82657 [==============================] - 122s 1ms/step - loss: 1.4916 - accuracy: 0.5329\n",
            "Epoch 18/100\n",
            "82657/82657 [==============================] - 125s 2ms/step - loss: 1.4593 - accuracy: 0.5325\n",
            "Epoch 19/100\n",
            "82657/82657 [==============================] - 124s 2ms/step - loss: 1.5270 - accuracy: 0.5319\n",
            "Epoch 20/100\n",
            "82657/82657 [==============================] - 124s 1ms/step - loss: 1.4687 - accuracy: 0.5319\n",
            "Epoch 21/100\n",
            "82657/82657 [==============================] - 124s 1ms/step - loss: 1.4767 - accuracy: 0.5314\n",
            "Epoch 22/100\n",
            "82657/82657 [==============================] - 125s 2ms/step - loss: 1.4693 - accuracy: 0.5302\n",
            "Epoch 23/100\n",
            "82657/82657 [==============================] - 128s 2ms/step - loss: 1.4792 - accuracy: 0.5274\n",
            "Epoch 24/100\n",
            "82657/82657 [==============================] - 125s 2ms/step - loss: 1.4908 - accuracy: 0.5281\n",
            "Epoch 25/100\n",
            "82657/82657 [==============================] - 124s 1ms/step - loss: 1.4793 - accuracy: 0.5281\n",
            "Epoch 26/100\n",
            "82657/82657 [==============================] - 123s 1ms/step - loss: 1.4834 - accuracy: 0.5289\n",
            "Epoch 27/100\n",
            "82657/82657 [==============================] - 125s 2ms/step - loss: 1.5677 - accuracy: 0.5318\n",
            "Epoch 28/100\n",
            "82657/82657 [==============================] - 126s 2ms/step - loss: 1.4709 - accuracy: 0.5310\n",
            "Epoch 29/100\n",
            "82657/82657 [==============================] - 121s 1ms/step - loss: 1.4797 - accuracy: 0.5332\n",
            "Epoch 30/100\n",
            "82657/82657 [==============================] - 121s 1ms/step - loss: 1.4774 - accuracy: 0.5304\n",
            "Epoch 31/100\n",
            "82657/82657 [==============================] - 121s 1ms/step - loss: 1.4843 - accuracy: 0.5292\n",
            "Epoch 32/100\n",
            "44528/82657 [===============>..............] - ETA: 56s - loss: 1.4792 - accuracy: 0.5272Buffered data was truncated after reaching the output size limit."
          ],
          "name": "stdout"
        }
      ]
    },
    {
      "cell_type": "code",
      "metadata": {
        "id": "b3JKOvSldh7h",
        "colab_type": "code",
        "outputId": "a57b2f9d-2bd5-46f8-f8d4-7406c5250cd7",
        "colab": {
          "base_uri": "https://localhost:8080/",
          "height": 71
        }
      },
      "source": [
        "y_pred=classifier.predict(x_test)\n",
        "predicted=le.inverse_transform(one.inverse_transform(y_pred))"
      ],
      "execution_count": 78,
      "outputs": [
        {
          "output_type": "stream",
          "text": [
            "/usr/local/lib/python3.6/dist-packages/sklearn/preprocessing/_label.py:289: DataConversionWarning: A column-vector y was passed when a 1d array was expected. Please change the shape of y to (n_samples, ), for example using ravel().\n",
            "  y = column_or_1d(y, warn=True)\n"
          ],
          "name": "stderr"
        }
      ]
    },
    {
      "cell_type": "code",
      "metadata": {
        "id": "Cxj_d4wdKXEk",
        "colab_type": "code",
        "colab": {}
      },
      "source": [
        "df=pd. DataFrame(data=predicted.reshape(-1,1), columns=[\"variety\"])\n",
        "df.to_csv(r'pridicted.csv', index = True)"
      ],
      "execution_count": 0,
      "outputs": []
    },
    {
      "cell_type": "code",
      "metadata": {
        "id": "DNKB_OrwLs60",
        "colab_type": "code",
        "outputId": "b203828b-23ba-4f3f-9d21-8c085bf2bed1",
        "colab": {
          "base_uri": "https://localhost:8080/",
          "height": 136
        }
      },
      "source": [
        "predicted.reshape(-1,1)"
      ],
      "execution_count": 80,
      "outputs": [
        {
          "output_type": "execute_result",
          "data": {
            "text/plain": [
              "array([['Malbec'],\n",
              "       ['Cabernet Sauvignon'],\n",
              "       ['Malbec'],\n",
              "       ...,\n",
              "       ['Cabernet Sauvignon'],\n",
              "       ['Red Blend'],\n",
              "       ['Cabernet Sauvignon']], dtype=object)"
            ]
          },
          "metadata": {
            "tags": []
          },
          "execution_count": 80
        }
      ]
    }
  ]
}